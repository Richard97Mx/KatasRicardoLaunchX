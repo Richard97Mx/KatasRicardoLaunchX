{
 "cells": [
  {
   "cell_type": "markdown",
   "metadata": {},
   "source": [
    "Kata 3: Declaraciones if, else y operadores and y or."
   ]
  },
  {
   "cell_type": "markdown",
   "metadata": {},
   "source": [
    "Ejercicio 1"
   ]
  },
  {
   "cell_type": "code",
   "execution_count": 2,
   "metadata": {},
   "outputs": [
    {
     "name": "stdout",
     "output_type": "stream",
     "text": [
      "¡Todo bajo control!\n"
     ]
    }
   ],
   "source": [
    "asteroide = 20\n",
    "if asteroide > 25:\n",
    "    print('¡Alerta! ¡Un asteroide se acerca a velocidades peligrosas!')\n",
    "else:\n",
    "    print('¡Todo bajo control!')"
   ]
  },
  {
   "cell_type": "markdown",
   "metadata": {},
   "source": [
    "Ejercicio 2"
   ]
  },
  {
   "cell_type": "code",
   "execution_count": 5,
   "metadata": {},
   "outputs": [
    {
     "name": "stdout",
     "output_type": "stream",
     "text": [
      "¡Don´t worry... be happy!\n"
     ]
    }
   ],
   "source": [
    "asteroide = 19\n",
    "if asteroide > 20:\n",
    "    print('Miraaaaaaaa! ¡Hay una luz mágica en el cielo!')\n",
    "elif asteroide == 20:\n",
    "    print('Mira...Mira...! ¡Hay una luz mágica en el cielo!')\n",
    "else:\n",
    "    print('¡Don´t worry... be happy!')"
   ]
  },
  {
   "cell_type": "markdown",
   "metadata": {},
   "source": [
    "Ejercicio 3"
   ]
  },
  {
   "cell_type": "code",
   "execution_count": 9,
   "metadata": {},
   "outputs": [
    {
     "name": "stdout",
     "output_type": "stream",
     "text": [
      "¡Alerta, Vamos a Morir!!!!!!\n"
     ]
    }
   ],
   "source": [
    "velocidad_asteroide = 50\n",
    "tamano_asteroide = 40\n",
    "if velocidad_asteroide > 25 and tamano_asteroide > 25:\n",
    "    print('¡Alerta, Vamos a Morir!!!!!!')\n",
    "elif velocidad_asteroide >= 20:\n",
    "    print('Mira! ¡Un rashoo laser en el cielo!')\n",
    "elif tamano_asteroide < 25:\n",
    "    print('No pasa nada oiga :)')\n",
    "else:\n",
    "    print('Tranqui, no problem :)')"
   ]
  }
 ],
 "metadata": {
  "interpreter": {
   "hash": "1f8d80d535cfd832283e4e3a1095d2ce45fe6627336684f2622a1965babb2f1c"
  },
  "kernelspec": {
   "display_name": "Python 3.9.10 64-bit (windows store)",
   "language": "python",
   "name": "python3"
  },
  "language_info": {
   "codemirror_mode": {
    "name": "ipython",
    "version": 3
   },
   "file_extension": ".py",
   "mimetype": "text/x-python",
   "name": "python",
   "nbconvert_exporter": "python",
   "pygments_lexer": "ipython3",
   "version": "3.9.10"
  },
  "orig_nbformat": 4
 },
 "nbformat": 4,
 "nbformat_minor": 2
}
